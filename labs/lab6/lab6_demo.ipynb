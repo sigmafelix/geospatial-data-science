{
 "cells": [
  {
   "cell_type": "markdown",
   "id": "adfba093",
   "metadata": {},
   "source": [
    "## Lab 6: Getting started on final projects\n",
    "\n",
    "**Objectives:**\n",
    "   * Create a new GitHub repo\n",
    "   * Prepare basic outline of project\n"
   ]
  },
  {
   "cell_type": "markdown",
   "id": "819cf18e",
   "metadata": {},
   "source": [
    "### Create a new Github repo \n",
    "\n",
    "Click the big green **New** button and follow instructions on GitHub. Come up with a clever, descriptive repo name - try to avoid names like \"finalproject\", which won't make it very searchable. When you initialize, select to include a `README.md` and include a `.gitignore` file for `Python`.\n",
    "\n",
    "Don’t stress too much about the specifics of the repo - these are not permanent, and you can always change repo names, or start over entirely (just copy and add existing files as a first commit). One of the goals here is to gain more experience using `git` for collaborative work and, early on, you're inevitably going to make some mistakes.\n",
    "\n",
    "If you’re working in a group, pick a project lead to initiate and manage the repo. The project lead will add the others as collaborators and make sure they have permission to access and commit.\n",
    "\n",
    "https://icesat-2hackweek.github.io/learning-resources/projects/project_initialization/.\n",
    "\n",
    "* If you encounter issues, send me a direct message on Slack (including everyone on the group project), so I can help you navigate.\n",
    "\n",
    "I would like to see at least one commit from each group member at this phase of the project, even if it is as simple as everyone using the Github interface to edit the README.md file and add their name. There are many approaches to collaborative group/team development using git/Github and no \"right\" way.\n",
    "\n",
    "###  Collaborate on group project\n",
    "\n",
    "The best practice is to avoid situations where two people are independently working on the same script. When trying to push/pull changes to/from same origin branch, there will inevitably be merge conflicts that can be messy to untangle.\n",
    "\n",
    "Collaboration can be a bit more complicated with Jupyter notebooks since running cells in the notebook will change execution count and output, even if the code and content appear identical. We recommend writing scripts in Spyder. \n",
    "\n",
    "General recommendation - split up the project into multiple smaller scipts, and have each person work on different components. For example, you could have one script that ingests files, reduces/manipulates the data (e.g., reprojection), then writes new files out to disk in \"analysis-ready\" format. Then a second notebook reads in those data and does some analysis, creates some plots, etc. If you can pass things back and forth between group members like this, you'll avoid conflicts.\n",
    "\n",
    "Alternatively, each team member can create separate notebooks with different filenames that both live in the shared repo. When another team member does some work and commits their notebook to the shared repo, you can can pull changes, open their notebook, select relevant cells, copy and paste into your notebook. One simple option with this model is for each group member to create and maintain a subdirectory within the repo where they will stage and modify their own notebooks for their component of the project.\n",
    "\n",
    "If you feel comfortable with git/github, you can also use a more standard git branching workflow (e.g. https://icesat-2hackweek.github.io/learning-resources/projects/example_workflow/. \n",
    "\n",
    "### Prepare a README\n",
    "\n",
    "The `README.md` file in your new repo will serve as the landing page for your project. You can continue to update as your project evolves, but for now, please prepare a basic project outline. Review the [markdown cheat sheet](https://www.markdownguide.org/basic-syntax/) and use some basic headings, bulleted/numbered lists, and other formatting to organize your outline.\n",
    "\n",
    "Please include the following:\n",
    "\n",
    "* Project Title\n",
    "* Name(s) of individual or team members\n",
    "* Short 1-2 sentence summary\n",
    "* Problem statement, question(s) and/or objective(s)\n",
    "* Datasets you will use (with links, if available)\n",
    "* Tools/packages you’ll need\n",
    "* Planned methodology/approach\n",
    "* Expected outcomes\n",
    "* Any other relevant information, images/tables, references, etc.\n",
    "* References\n",
    "\n",
    "That may sound like a lot, but some of these items should only be 1-2 sentences, others can be short lists. Consider this the start of your final report."
   ]
  },
  {
   "cell_type": "code",
   "execution_count": null,
   "id": "d81c5045",
   "metadata": {},
   "outputs": [],
   "source": []
  }
 ],
 "metadata": {
  "kernelspec": {
   "display_name": "Python 3 (ipykernel)",
   "language": "python",
   "name": "python3"
  },
  "language_info": {
   "codemirror_mode": {
    "name": "ipython",
    "version": 3
   },
   "file_extension": ".py",
   "mimetype": "text/x-python",
   "name": "python",
   "nbconvert_exporter": "python",
   "pygments_lexer": "ipython3",
   "version": "3.8.12"
  }
 },
 "nbformat": 4,
 "nbformat_minor": 5
}
