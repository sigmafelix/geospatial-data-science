{
 "cells": [
  {
   "cell_type": "markdown",
   "metadata": {},
   "source": [
    "# Lab 2 Rubrics\n",
    "### Insang Song"
   ]
  },
  {
   "cell_type": "markdown",
   "metadata": {},
   "source": [
    "*********\n",
    "\n",
    "## Question 1 (20 points): \n",
    "\n",
    "* a) Which **county** had the most **human** caused wildfires **>50 acres**? (HINT: use the `FIPS_NAME` column)\n",
    "* b) Which **month** had the most **natural** caused wildfires **>100 acres**?\n",
    "* c) How many fires **>200 acres** have an **undetermined** cause (e.g. `Missing data/not specified/undetermined`?\n",
    "* d) What is the name, date, and county of the **largest sized fire**?\n",
    "* e) How many wildfires in **Lane County** were **>50 acres**?\n",
    "\n",
    "**************"
   ]
  },
  {
   "cell_type": "code",
   "execution_count": 116,
   "metadata": {
    "scrolled": true
   },
   "outputs": [],
   "source": [
    "import pandas as pd\n",
    "import geopandas as gpd\n",
    "import matplotlib.pyplot as plt"
   ]
  },
  {
   "cell_type": "code",
   "execution_count": 117,
   "metadata": {},
   "outputs": [],
   "source": [
    "pathname = 'C:/Users/isong/OneDrive/UO/Works_during_Candidacy/GE/2022W/geospatial-data-science-felix/labs/lab2/Wildfire/'\n",
    "wf = gpd.read_file(pathname + 'or_1992-2018.shp')"
   ]
  },
  {
   "cell_type": "code",
   "execution_count": 118,
   "metadata": {},
   "outputs": [
    {
     "data": {
      "text/plain": [
       "array(['Natural', 'Human', 'Missing data/not specified/undetermined'],\n",
       "      dtype=object)"
      ]
     },
     "execution_count": 118,
     "metadata": {},
     "output_type": "execute_result"
    }
   ],
   "source": [
    "wf['NWCG_CAUSE'].unique()"
   ]
  },
  {
   "cell_type": "markdown",
   "metadata": {},
   "source": [
    "## a)"
   ]
  },
  {
   "cell_type": "code",
   "execution_count": 119,
   "metadata": {},
   "outputs": [],
   "source": [
    "wf_human_freq50_1 = wf[(wf[\"NWCG_CAUSE\"] == \"Human\") * (wf[\"FIRE_SIZE\"] > 50)]\\\n",
    "                [\"FIPS_NAME\"].\\\n",
    "                describe()"
   ]
  },
  {
   "cell_type": "code",
   "execution_count": 120,
   "metadata": {},
   "outputs": [
    {
     "data": {
      "text/plain": [
       "count              627\n",
       "unique              38\n",
       "top       Wasco County\n",
       "freq                71\n",
       "Name: FIPS_NAME, dtype: object"
      ]
     },
     "execution_count": 120,
     "metadata": {},
     "output_type": "execute_result"
    }
   ],
   "source": [
    "wf_human_freq50_1"
   ]
  },
  {
   "cell_type": "code",
   "execution_count": 121,
   "metadata": {},
   "outputs": [],
   "source": [
    "wf_human_freq50_2 = wf[(wf[\"NWCG_CAUSE\"] == \"Human\") * (wf[\"FIRE_SIZE\"] > 50)]\\\n",
    "                [[\"FIPS_NAME\", \"FIRE_SIZE\"]].\\\n",
    "                describe(include = 'all')"
   ]
  },
  {
   "cell_type": "code",
   "execution_count": 122,
   "metadata": {},
   "outputs": [
    {
     "data": {
      "text/html": [
       "<div>\n",
       "<style scoped>\n",
       "    .dataframe tbody tr th:only-of-type {\n",
       "        vertical-align: middle;\n",
       "    }\n",
       "\n",
       "    .dataframe tbody tr th {\n",
       "        vertical-align: top;\n",
       "    }\n",
       "\n",
       "    .dataframe thead th {\n",
       "        text-align: right;\n",
       "    }\n",
       "</style>\n",
       "<table border=\"1\" class=\"dataframe\">\n",
       "  <thead>\n",
       "    <tr style=\"text-align: right;\">\n",
       "      <th></th>\n",
       "      <th>FIPS_NAME</th>\n",
       "      <th>FIRE_SIZE</th>\n",
       "    </tr>\n",
       "  </thead>\n",
       "  <tbody>\n",
       "    <tr>\n",
       "      <th>count</th>\n",
       "      <td>627</td>\n",
       "      <td>971.000000</td>\n",
       "    </tr>\n",
       "    <tr>\n",
       "      <th>unique</th>\n",
       "      <td>38</td>\n",
       "      <td>NaN</td>\n",
       "    </tr>\n",
       "    <tr>\n",
       "      <th>top</th>\n",
       "      <td>Wasco County</td>\n",
       "      <td>NaN</td>\n",
       "    </tr>\n",
       "    <tr>\n",
       "      <th>freq</th>\n",
       "      <td>71</td>\n",
       "      <td>NaN</td>\n",
       "    </tr>\n",
       "    <tr>\n",
       "      <th>mean</th>\n",
       "      <td>NaN</td>\n",
       "      <td>1904.293728</td>\n",
       "    </tr>\n",
       "    <tr>\n",
       "      <th>std</th>\n",
       "      <td>NaN</td>\n",
       "      <td>7705.762128</td>\n",
       "    </tr>\n",
       "    <tr>\n",
       "      <th>min</th>\n",
       "      <td>NaN</td>\n",
       "      <td>50.400000</td>\n",
       "    </tr>\n",
       "    <tr>\n",
       "      <th>25%</th>\n",
       "      <td>NaN</td>\n",
       "      <td>98.080000</td>\n",
       "    </tr>\n",
       "    <tr>\n",
       "      <th>50%</th>\n",
       "      <td>NaN</td>\n",
       "      <td>200.000000</td>\n",
       "    </tr>\n",
       "    <tr>\n",
       "      <th>75%</th>\n",
       "      <td>NaN</td>\n",
       "      <td>659.700000</td>\n",
       "    </tr>\n",
       "    <tr>\n",
       "      <th>max</th>\n",
       "      <td>NaN</td>\n",
       "      <td>118230.000000</td>\n",
       "    </tr>\n",
       "  </tbody>\n",
       "</table>\n",
       "</div>"
      ],
      "text/plain": [
       "           FIPS_NAME      FIRE_SIZE\n",
       "count            627     971.000000\n",
       "unique            38            NaN\n",
       "top     Wasco County            NaN\n",
       "freq              71            NaN\n",
       "mean             NaN    1904.293728\n",
       "std              NaN    7705.762128\n",
       "min              NaN      50.400000\n",
       "25%              NaN      98.080000\n",
       "50%              NaN     200.000000\n",
       "75%              NaN     659.700000\n",
       "max              NaN  118230.000000"
      ]
     },
     "execution_count": 122,
     "metadata": {},
     "output_type": "execute_result"
    }
   ],
   "source": [
    "wf_human_freq50_2"
   ]
  },
  {
   "cell_type": "markdown",
   "metadata": {},
   "source": [
    "- Wasco County had the most frequent human-caused wildlife cases larger than 50 acres. The number of cases were 71.\n",
    "- To tidy up your code, please consider using backslash (`\\`) in the middle of your code to indicate your code continues."
   ]
  },
  {
   "cell_type": "markdown",
   "metadata": {},
   "source": [
    "## b)"
   ]
  },
  {
   "cell_type": "code",
   "execution_count": 123,
   "metadata": {},
   "outputs": [],
   "source": [
    "datetime = pd.to_datetime(wf['DISCOVERY_'], format='%Y/%m/%d %H:%M:%S.%f')\n",
    "wf['datetime'] = datetime\n",
    "wf_natural = wf[wf[\"NWCG_CAUSE\"] == \"Natural\"]\n",
    "wf_natural_100 = wf_natural[wf_natural[\"FIRE_SIZE\"] > 100]\n",
    "wf_natural_100 = wf_natural_100.\\\n",
    "        assign(month = wf_natural_100[\"datetime\"].dt.month)\n",
    "# The code below works okay, but shows a warning message.\n",
    "# wf_natural.loc[:,\"month\"] = wf_natural[\"datetime\"].dt.month"
   ]
  },
  {
   "cell_type": "code",
   "execution_count": 124,
   "metadata": {},
   "outputs": [
    {
     "data": {
      "text/html": [
       "<div>\n",
       "<style scoped>\n",
       "    .dataframe tbody tr th:only-of-type {\n",
       "        vertical-align: middle;\n",
       "    }\n",
       "\n",
       "    .dataframe tbody tr th {\n",
       "        vertical-align: top;\n",
       "    }\n",
       "\n",
       "    .dataframe thead th {\n",
       "        text-align: right;\n",
       "    }\n",
       "</style>\n",
       "<table border=\"1\" class=\"dataframe\">\n",
       "  <thead>\n",
       "    <tr style=\"text-align: right;\">\n",
       "      <th></th>\n",
       "      <th>OBJECTID</th>\n",
       "      <th>FOD_ID</th>\n",
       "      <th>FIRE_YEAR</th>\n",
       "      <th>DISCOVER_1</th>\n",
       "      <th>CONT_DOY</th>\n",
       "      <th>FIRE_SIZE</th>\n",
       "      <th>LATITUDE</th>\n",
       "      <th>LONGITUDE</th>\n",
       "      <th>month</th>\n",
       "    </tr>\n",
       "  </thead>\n",
       "  <tbody>\n",
       "    <tr>\n",
       "      <th>count</th>\n",
       "      <td>1.164000e+03</td>\n",
       "      <td>1.164000e+03</td>\n",
       "      <td>1164.000000</td>\n",
       "      <td>1164.000000</td>\n",
       "      <td>1095.000000</td>\n",
       "      <td>1164.000000</td>\n",
       "      <td>1164.000000</td>\n",
       "      <td>1164.000000</td>\n",
       "      <td>1164.000000</td>\n",
       "    </tr>\n",
       "    <tr>\n",
       "      <th>mean</th>\n",
       "      <td>8.263706e+05</td>\n",
       "      <td>1.049247e+08</td>\n",
       "      <td>2005.994845</td>\n",
       "      <td>213.636598</td>\n",
       "      <td>230.336073</td>\n",
       "      <td>6647.846881</td>\n",
       "      <td>43.873146</td>\n",
       "      <td>-119.567362</td>\n",
       "      <td>7.547251</td>\n",
       "    </tr>\n",
       "    <tr>\n",
       "      <th>std</th>\n",
       "      <td>7.296651e+05</td>\n",
       "      <td>1.518448e+08</td>\n",
       "      <td>7.738968</td>\n",
       "      <td>23.709863</td>\n",
       "      <td>34.465152</td>\n",
       "      <td>27261.305304</td>\n",
       "      <td>1.041500</td>\n",
       "      <td>1.850851</td>\n",
       "      <td>0.811780</td>\n",
       "    </tr>\n",
       "    <tr>\n",
       "      <th>min</th>\n",
       "      <td>4.139000e+03</td>\n",
       "      <td>4.159000e+03</td>\n",
       "      <td>1992.000000</td>\n",
       "      <td>114.000000</td>\n",
       "      <td>116.000000</td>\n",
       "      <td>101.000000</td>\n",
       "      <td>42.011000</td>\n",
       "      <td>-124.107222</td>\n",
       "      <td>4.000000</td>\n",
       "    </tr>\n",
       "    <tr>\n",
       "      <th>25%</th>\n",
       "      <td>2.326748e+05</td>\n",
       "      <td>2.368162e+05</td>\n",
       "      <td>2000.000000</td>\n",
       "      <td>196.000000</td>\n",
       "      <td>208.000000</td>\n",
       "      <td>229.950000</td>\n",
       "      <td>42.981668</td>\n",
       "      <td>-121.007245</td>\n",
       "      <td>7.000000</td>\n",
       "    </tr>\n",
       "    <tr>\n",
       "      <th>50%</th>\n",
       "      <td>3.431775e+05</td>\n",
       "      <td>3.519535e+05</td>\n",
       "      <td>2006.000000</td>\n",
       "      <td>216.000000</td>\n",
       "      <td>228.000000</td>\n",
       "      <td>751.500000</td>\n",
       "      <td>43.847400</td>\n",
       "      <td>-119.340835</td>\n",
       "      <td>8.000000</td>\n",
       "    </tr>\n",
       "    <tr>\n",
       "      <th>75%</th>\n",
       "      <td>1.647138e+06</td>\n",
       "      <td>2.017774e+08</td>\n",
       "      <td>2013.000000</td>\n",
       "      <td>230.000000</td>\n",
       "      <td>248.000000</td>\n",
       "      <td>3677.925000</td>\n",
       "      <td>44.778125</td>\n",
       "      <td>-117.931550</td>\n",
       "      <td>8.000000</td>\n",
       "    </tr>\n",
       "    <tr>\n",
       "      <th>max</th>\n",
       "      <td>2.118754e+06</td>\n",
       "      <td>4.003898e+08</td>\n",
       "      <td>2018.000000</td>\n",
       "      <td>298.000000</td>\n",
       "      <td>366.000000</td>\n",
       "      <td>558198.300000</td>\n",
       "      <td>45.993060</td>\n",
       "      <td>-116.516111</td>\n",
       "      <td>10.000000</td>\n",
       "    </tr>\n",
       "  </tbody>\n",
       "</table>\n",
       "</div>"
      ],
      "text/plain": [
       "           OBJECTID        FOD_ID    FIRE_YEAR   DISCOVER_1     CONT_DOY  \\\n",
       "count  1.164000e+03  1.164000e+03  1164.000000  1164.000000  1095.000000   \n",
       "mean   8.263706e+05  1.049247e+08  2005.994845   213.636598   230.336073   \n",
       "std    7.296651e+05  1.518448e+08     7.738968    23.709863    34.465152   \n",
       "min    4.139000e+03  4.159000e+03  1992.000000   114.000000   116.000000   \n",
       "25%    2.326748e+05  2.368162e+05  2000.000000   196.000000   208.000000   \n",
       "50%    3.431775e+05  3.519535e+05  2006.000000   216.000000   228.000000   \n",
       "75%    1.647138e+06  2.017774e+08  2013.000000   230.000000   248.000000   \n",
       "max    2.118754e+06  4.003898e+08  2018.000000   298.000000   366.000000   \n",
       "\n",
       "           FIRE_SIZE     LATITUDE    LONGITUDE        month  \n",
       "count    1164.000000  1164.000000  1164.000000  1164.000000  \n",
       "mean     6647.846881    43.873146  -119.567362     7.547251  \n",
       "std     27261.305304     1.041500     1.850851     0.811780  \n",
       "min       101.000000    42.011000  -124.107222     4.000000  \n",
       "25%       229.950000    42.981668  -121.007245     7.000000  \n",
       "50%       751.500000    43.847400  -119.340835     8.000000  \n",
       "75%      3677.925000    44.778125  -117.931550     8.000000  \n",
       "max    558198.300000    45.993060  -116.516111    10.000000  "
      ]
     },
     "execution_count": 124,
     "metadata": {},
     "output_type": "execute_result"
    }
   ],
   "source": [
    "wf_natural_100.describe()"
   ]
  },
  {
   "cell_type": "markdown",
   "metadata": {},
   "source": [
    "- We can be sure that the columns `OBJECTID`, `FOD_ID`, `FIRE_YEAR`, `DISCOVER_1`, `FIRE_SIZE`, `LATITUDE` and `LONGITUDE` are suitable for counting cases while avoiding miscounts due to `NaN` values."
   ]
  },
  {
   "cell_type": "code",
   "execution_count": 125,
   "metadata": {},
   "outputs": [
    {
     "data": {
      "text/html": [
       "<div>\n",
       "<style scoped>\n",
       "    .dataframe tbody tr th:only-of-type {\n",
       "        vertical-align: middle;\n",
       "    }\n",
       "\n",
       "    .dataframe tbody tr th {\n",
       "        vertical-align: top;\n",
       "    }\n",
       "\n",
       "    .dataframe thead th {\n",
       "        text-align: right;\n",
       "    }\n",
       "</style>\n",
       "<table border=\"1\" class=\"dataframe\">\n",
       "  <thead>\n",
       "    <tr style=\"text-align: right;\">\n",
       "      <th></th>\n",
       "      <th>FIRE_SIZE</th>\n",
       "    </tr>\n",
       "    <tr>\n",
       "      <th>month</th>\n",
       "      <th></th>\n",
       "    </tr>\n",
       "  </thead>\n",
       "  <tbody>\n",
       "    <tr>\n",
       "      <th>8</th>\n",
       "      <td>549</td>\n",
       "    </tr>\n",
       "  </tbody>\n",
       "</table>\n",
       "</div>"
      ],
      "text/plain": [
       "       FIRE_SIZE\n",
       "month           \n",
       "8            549"
      ]
     },
     "execution_count": 125,
     "metadata": {},
     "output_type": "execute_result"
    }
   ],
   "source": [
    "wf_natural_100 = wf_natural_100[[\"month\", \"FIRE_SIZE\"]].groupby(\"month\").count()\n",
    "wf_natural_100[wf_natural_100[\"FIRE_SIZE\"] == wf_natural_100[\"FIRE_SIZE\"].max()]"
   ]
  },
  {
   "cell_type": "markdown",
   "metadata": {},
   "source": [
    "- August was the month of the maximum frequency of naturally caused wildfires larger than 100 acres."
   ]
  },
  {
   "cell_type": "markdown",
   "metadata": {},
   "source": [
    "## c)"
   ]
  },
  {
   "cell_type": "code",
   "execution_count": 126,
   "metadata": {},
   "outputs": [
    {
     "data": {
      "text/plain": [
       "(13, 40)"
      ]
     },
     "execution_count": 126,
     "metadata": {},
     "output_type": "execute_result"
    }
   ],
   "source": [
    "wf_200p_undet = wf[(wf[\"FIRE_SIZE\"] > 200) * (wf[\"NWCG_CAUSE\"] == \"Missing data/not specified/undetermined\")]\n",
    "wf_200p_undet.shape"
   ]
  },
  {
   "cell_type": "markdown",
   "metadata": {},
   "source": [
    "- Thirteen cases that were larger than 200 acres occurred from undetermined causes."
   ]
  },
  {
   "cell_type": "markdown",
   "metadata": {},
   "source": [
    "## d)"
   ]
  },
  {
   "cell_type": "code",
   "execution_count": 127,
   "metadata": {},
   "outputs": [
    {
     "data": {
      "text/html": [
       "<div>\n",
       "<style scoped>\n",
       "    .dataframe tbody tr th:only-of-type {\n",
       "        vertical-align: middle;\n",
       "    }\n",
       "\n",
       "    .dataframe tbody tr th {\n",
       "        vertical-align: top;\n",
       "    }\n",
       "\n",
       "    .dataframe thead th {\n",
       "        text-align: right;\n",
       "    }\n",
       "</style>\n",
       "<table border=\"1\" class=\"dataframe\">\n",
       "  <thead>\n",
       "    <tr style=\"text-align: right;\">\n",
       "      <th></th>\n",
       "      <th>FIRE_NAME</th>\n",
       "      <th>FIPS_NAME</th>\n",
       "      <th>DISCOVERY_</th>\n",
       "      <th>FIRE_SIZE</th>\n",
       "    </tr>\n",
       "  </thead>\n",
       "  <tbody>\n",
       "    <tr>\n",
       "      <th>66964</th>\n",
       "      <td>LONG DRAW</td>\n",
       "      <td>Malheur County</td>\n",
       "      <td>2012/07/08 00:00:00.000</td>\n",
       "      <td>558198.3</td>\n",
       "    </tr>\n",
       "  </tbody>\n",
       "</table>\n",
       "</div>"
      ],
      "text/plain": [
       "       FIRE_NAME       FIPS_NAME               DISCOVERY_  FIRE_SIZE\n",
       "66964  LONG DRAW  Malheur County  2012/07/08 00:00:00.000   558198.3"
      ]
     },
     "execution_count": 127,
     "metadata": {},
     "output_type": "execute_result"
    }
   ],
   "source": [
    "wf_largest = wf[wf[\"FIRE_SIZE\"] == wf[\"FIRE_SIZE\"].max()]\n",
    "wf_largest[[\"FIRE_NAME\", \"FIPS_NAME\", \"DISCOVERY_\", \"FIRE_SIZE\"]]"
   ]
  },
  {
   "cell_type": "markdown",
   "metadata": {},
   "source": [
    "- The largest wildfire between 1992-2018 was _Long Draw_ fire, which burned 558,198.3 acres and occurred in Malheur County on 07/08/2012."
   ]
  },
  {
   "cell_type": "markdown",
   "metadata": {},
   "source": [
    "## e)"
   ]
  },
  {
   "cell_type": "code",
   "execution_count": 128,
   "metadata": {},
   "outputs": [
    {
     "data": {
      "text/plain": [
       "array(['Curry County', 'Coos County', None, 'Umatilla County',\n",
       "       'Wallowa County', 'Union County', 'Benton County', 'Grant County',\n",
       "       'Morrow County', 'Clatsop County', 'Columbia County',\n",
       "       'Washington County', 'Tillamook County', 'Clackamas County',\n",
       "       'Multnomah County', 'Hood River County', 'Malheur County',\n",
       "       'Baker County', 'Cowlitz County', 'Wahkiakum County',\n",
       "       'Klickitat County', 'Skamania County', 'Wasco County',\n",
       "       'Yamhill County', 'Douglas County', 'Sherman County',\n",
       "       'Lincoln County', 'Wheeler County', 'Gilliam County',\n",
       "       'Garfield County', 'Marion County', 'Deschutes County',\n",
       "       'Jefferson County', 'Linn County', 'Adams County', 'Polk County',\n",
       "       'Lane County', 'Lake County', 'Crook County', 'Jackson County',\n",
       "       'Josephine County', 'Klamath County', 'Harney County',\n",
       "       'Lassen County', 'Humboldt County', 'Owyhee County'], dtype=object)"
      ]
     },
     "execution_count": 128,
     "metadata": {},
     "output_type": "execute_result"
    }
   ],
   "source": [
    "wf[\"FIPS_NAME\"].unique()"
   ]
  },
  {
   "cell_type": "code",
   "execution_count": 129,
   "metadata": {},
   "outputs": [
    {
     "data": {
      "text/plain": [
       "(33, 40)"
      ]
     },
     "execution_count": 129,
     "metadata": {},
     "output_type": "execute_result"
    }
   ],
   "source": [
    "wf_lane_50p = wf[(wf[\"FIPS_NAME\"] == \"Lane County\") * (wf[\"FIRE_SIZE\"] > 50)]\n",
    "wf_lane_50p.shape"
   ]
  },
  {
   "cell_type": "markdown",
   "metadata": {},
   "source": [
    "- Thirty-three wildfires that larger than 50 acres occurred in Lane County, OR."
   ]
  },
  {
   "cell_type": "code",
   "execution_count": 130,
   "metadata": {
    "scrolled": true
   },
   "outputs": [
    {
     "data": {
      "text/plain": [
       "(33, 40)"
      ]
     },
     "execution_count": 130,
     "metadata": {},
     "output_type": "execute_result"
    }
   ],
   "source": [
    "# 41039 is the FIPS code of Lane County, OR.\n",
    "wf_lane_50p_code = wf[(wf[\"FIPS_CODE\"] == \"41039\") * (wf[\"FIRE_SIZE\"] > 50)]\n",
    "wf_lane_50p_code.shape"
   ]
  },
  {
   "cell_type": "markdown",
   "metadata": {},
   "source": [
    "*********\n",
    "\n",
    "## Question 2 (20 points): \n",
    "* a) Write some more code in `lab2_submission.ipynb` to produce a choropleth map for a city, county or state showing a Census variable (or derived variable) of your choice. Consider choosing a place or variable that interests you. The following is a useful guide: https://nbviewer.org/github/ljwolf/cenpy/blob/master/notebooks/product-api.ipynb?flush_cache=true\n",
    "\n",
    "Note that:\n",
    "* If your map represents a state, use county level data\n",
    "* If your map represents a county or city, use tract level data\n",
    "\n",
    "The following table provides a list of Census variables: https://api.census.gov/data/2019/acs/acs5/variables.html\n",
    "**************"
   ]
  },
  {
   "cell_type": "markdown",
   "metadata": {},
   "source": [
    "## a)"
   ]
  },
  {
   "cell_type": "code",
   "execution_count": 131,
   "metadata": {},
   "outputs": [],
   "source": [
    "# Import modules\n",
    "from cenpy import products\n",
    "import matplotlib.pyplot as plt\n",
    "\n",
    "# Define product\n",
    "acs = products.ACS(2019)"
   ]
  },
  {
   "cell_type": "code",
   "execution_count": 132,
   "metadata": {},
   "outputs": [
    {
     "data": {
      "text/plain": [
       "'C:\\\\Users\\\\isong\\\\.conda\\\\envs\\\\lab2\\\\lib\\\\site-packages\\\\cenpy\\\\SITEKEY.txt'"
      ]
     },
     "execution_count": 132,
     "metadata": {},
     "output_type": "execute_result"
    }
   ],
   "source": [
    "import cenpy\n",
    "from mpl_toolkits.axes_grid1 import make_axes_locatable\n",
    "\n",
    "cenpy.set_sitekey(\"05db0646f9956eba295b88d5a86bf4fe455459f3\", overwrite = True)"
   ]
  },
  {
   "cell_type": "code",
   "execution_count": 133,
   "metadata": {},
   "outputs": [
    {
     "data": {
      "text/html": [
       "<div>\n",
       "<style scoped>\n",
       "    .dataframe tbody tr th:only-of-type {\n",
       "        vertical-align: middle;\n",
       "    }\n",
       "\n",
       "    .dataframe tbody tr th {\n",
       "        vertical-align: top;\n",
       "    }\n",
       "\n",
       "    .dataframe thead th {\n",
       "        text-align: right;\n",
       "    }\n",
       "</style>\n",
       "<table border=\"1\" class=\"dataframe\">\n",
       "  <thead>\n",
       "    <tr style=\"text-align: right;\">\n",
       "      <th></th>\n",
       "      <th>description</th>\n",
       "      <th>columns</th>\n",
       "    </tr>\n",
       "    <tr>\n",
       "      <th>table_name</th>\n",
       "      <th></th>\n",
       "      <th></th>\n",
       "    </tr>\n",
       "  </thead>\n",
       "  <tbody>\n",
       "    <tr>\n",
       "      <th>B01003</th>\n",
       "      <td>TOTAL POPULATION</td>\n",
       "      <td>[B01003_001E]</td>\n",
       "    </tr>\n",
       "    <tr>\n",
       "      <th>B05006</th>\n",
       "      <td>PLACE OF BIRTH FOR THE FOREIGN-BORN POPULATION...</td>\n",
       "      <td>[B05006_001E, B05006_002E, B05006_003E, B05006...</td>\n",
       "    </tr>\n",
       "    <tr>\n",
       "      <th>B05007</th>\n",
       "      <td>PLACE OF BIRTH BY YEAR OF ENTRY BY CITIZENSHIP...</td>\n",
       "      <td>[B05007_001E, B05007_002E, B05007_003E, B05007...</td>\n",
       "    </tr>\n",
       "    <tr>\n",
       "      <th>B05008</th>\n",
       "      <td>SEX BY PLACE OF BIRTH BY YEAR OF ENTRY FOR THE...</td>\n",
       "      <td>[B05008_001E, B05008_002E, B05008_003E, B05008...</td>\n",
       "    </tr>\n",
       "    <tr>\n",
       "      <th>B05013</th>\n",
       "      <td>SEX BY AGE FOR THE FOREIGN-BORN POPULATION</td>\n",
       "      <td>[B05013_001E, B05013_002E, B05013_003E, B05013...</td>\n",
       "    </tr>\n",
       "    <tr>\n",
       "      <th>...</th>\n",
       "      <td>...</td>\n",
       "      <td>...</td>\n",
       "    </tr>\n",
       "    <tr>\n",
       "      <th>C24030</th>\n",
       "      <td>SEX BY INDUSTRY FOR THE CIVILIAN EMPLOYED POPU...</td>\n",
       "      <td>[C24030_001E, C24030_002E, C24030_003E, C24030...</td>\n",
       "    </tr>\n",
       "    <tr>\n",
       "      <th>C24040</th>\n",
       "      <td>SEX BY INDUSTRY FOR THE FULL-TIME, YEAR-ROUND ...</td>\n",
       "      <td>[C24040_001E, C24040_002E, C24040_003E, C24040...</td>\n",
       "    </tr>\n",
       "    <tr>\n",
       "      <th>C24050</th>\n",
       "      <td>INDUSTRY BY OCCUPATION FOR THE CIVILIAN  EMPLO...</td>\n",
       "      <td>[C24050_001E, C24050_002E, C24050_003E, C24050...</td>\n",
       "    </tr>\n",
       "    <tr>\n",
       "      <th>C24060</th>\n",
       "      <td>OCCUPATION BY CLASS OF WORKER FOR THE CIVILIAN...</td>\n",
       "      <td>[C24060_001E, C24060_002E, C24060_003E, C24060...</td>\n",
       "    </tr>\n",
       "    <tr>\n",
       "      <th>C24070</th>\n",
       "      <td>INDUSTRY BY CLASS OF WORKER FOR THE CIVILIAN E...</td>\n",
       "      <td>[C24070_001E, C24070_002E, C24070_003E, C24070...</td>\n",
       "    </tr>\n",
       "  </tbody>\n",
       "</table>\n",
       "<p>143 rows × 2 columns</p>\n",
       "</div>"
      ],
      "text/plain": [
       "                                                  description  \\\n",
       "table_name                                                      \n",
       "B01003                                       TOTAL POPULATION   \n",
       "B05006      PLACE OF BIRTH FOR THE FOREIGN-BORN POPULATION...   \n",
       "B05007      PLACE OF BIRTH BY YEAR OF ENTRY BY CITIZENSHIP...   \n",
       "B05008      SEX BY PLACE OF BIRTH BY YEAR OF ENTRY FOR THE...   \n",
       "B05013             SEX BY AGE FOR THE FOREIGN-BORN POPULATION   \n",
       "...                                                       ...   \n",
       "C24030      SEX BY INDUSTRY FOR THE CIVILIAN EMPLOYED POPU...   \n",
       "C24040      SEX BY INDUSTRY FOR THE FULL-TIME, YEAR-ROUND ...   \n",
       "C24050      INDUSTRY BY OCCUPATION FOR THE CIVILIAN  EMPLO...   \n",
       "C24060      OCCUPATION BY CLASS OF WORKER FOR THE CIVILIAN...   \n",
       "C24070      INDUSTRY BY CLASS OF WORKER FOR THE CIVILIAN E...   \n",
       "\n",
       "                                                      columns  \n",
       "table_name                                                     \n",
       "B01003                                          [B01003_001E]  \n",
       "B05006      [B05006_001E, B05006_002E, B05006_003E, B05006...  \n",
       "B05007      [B05007_001E, B05007_002E, B05007_003E, B05007...  \n",
       "B05008      [B05008_001E, B05008_002E, B05008_003E, B05008...  \n",
       "B05013      [B05013_001E, B05013_002E, B05013_003E, B05013...  \n",
       "...                                                       ...  \n",
       "C24030      [C24030_001E, C24030_002E, C24030_003E, C24030...  \n",
       "C24040      [C24040_001E, C24040_002E, C24040_003E, C24040...  \n",
       "C24050      [C24050_001E, C24050_002E, C24050_003E, C24050...  \n",
       "C24060      [C24060_001E, C24060_002E, C24060_003E, C24060...  \n",
       "C24070      [C24070_001E, C24070_002E, C24070_003E, C24070...  \n",
       "\n",
       "[143 rows x 2 columns]"
      ]
     },
     "execution_count": 133,
     "metadata": {},
     "output_type": "execute_result"
    }
   ],
   "source": [
    "# Print list of tables\n",
    "acs.filter_tables('POPULATION', by='description')"
   ]
  },
  {
   "cell_type": "code",
   "execution_count": 134,
   "metadata": {},
   "outputs": [
    {
     "name": "stderr",
     "output_type": "stream",
     "text": [
      "C:\\Users\\isong\\.conda\\envs\\lab2\\lib\\site-packages\\pyproj\\crs\\crs.py:131: FutureWarning: '+init=<authority>:<code>' syntax is deprecated. '<authority>:<code>' is the preferred initialization method. When making the change, be mindful of axis order changes: https://pyproj4.github.io/pyproj/stable/gotchas.html#axis-order-changes-in-proj-6\n",
      "  in_crs_string = _prepare_from_proj_string(in_crs_string)\n",
      "C:\\Users\\isong\\.conda\\envs\\lab2\\lib\\site-packages\\pandas\\core\\dtypes\\cast.py:1990: ShapelyDeprecationWarning: __len__ for multi-part geometries is deprecated and will be removed in Shapely 2.0. Check the length of the `geoms` property instead to get the  number of parts of a multi-part geometry.\n",
      "  result[:] = values\n",
      "C:\\Users\\isong\\.conda\\envs\\lab2\\lib\\site-packages\\pyproj\\crs\\crs.py:131: FutureWarning: '+init=<authority>:<code>' syntax is deprecated. '<authority>:<code>' is the preferred initialization method. When making the change, be mindful of axis order changes: https://pyproj4.github.io/pyproj/stable/gotchas.html#axis-order-changes-in-proj-6\n",
      "  in_crs_string = _prepare_from_proj_string(in_crs_string)\n",
      "C:\\Users\\isong\\.conda\\envs\\lab2\\lib\\site-packages\\cenpy\\products.py:767: FutureWarning: The `op` parameter is deprecated and will be removed in a future release. Please use the `predicate` parameter instead.\n",
      "  return self._from_name(state, variables, level, \"States\", **kwargs)\n"
     ]
    }
   ],
   "source": [
    "# Download data\n",
    "tx_acs_pa = products.ACS(2019).from_state('Texas', level='county',\n",
    "                                        variables=[\"C24040_001E\", \"C24040_028E\", \"C24040_055E\"]) # don't worry about the deprecation message!"
   ]
  },
  {
   "cell_type": "code",
   "execution_count": 135,
   "metadata": {},
   "outputs": [],
   "source": [
    "# get the rate of workers in public administration sectors \n",
    "tx_acs_pa = tx_acs_pa.assign(p_public_administration = 100 * (tx_acs_pa[\"C24040_028E\"] + tx_acs_pa[\"C24040_055E\"]) / tx_acs_pa[\"C24040_001E\"])"
   ]
  },
  {
   "cell_type": "markdown",
   "metadata": {},
   "source": [
    "- `C24040_001E`: Total workers\n",
    "- `C24040_028E`: Male public administration employees\n",
    "- `C24040_055E`: Female public administration employees"
   ]
  },
  {
   "cell_type": "code",
   "execution_count": 136,
   "metadata": {},
   "outputs": [
    {
     "data": {
      "text/plain": [
       "<AxesSubplot:>"
      ]
     },
     "execution_count": 136,
     "metadata": {},
     "output_type": "execute_result"
    },
    {
     "data": {
      "image/png": "[encoded data removed]",
      "text/plain": [
       "<Figure size 1152x720 with 2 Axes>"
      ]
     },
     "metadata": {
      "needs_background": "light"
     },
     "output_type": "display_data"
    }
   ],
   "source": [
    "# Plot map\n",
    "f, ax = plt.subplots(1, 1, figsize=(16,10))\n",
    "\n",
    "# These two lines make the colorbar the same size as the axes.\n",
    "divider = make_axes_locatable(ax)\n",
    "cax = divider.append_axes(\"right\", size=\"3.3%\", pad=0.15)\n",
    "\n",
    "tx_acs_pa.plot('p_public_administration', ax=ax, cmap='viridis', legend=True, cax=cax)\n",
    "#lane_fires_proj.plot(ax=ax, c='red')"
   ]
  },
  {
   "cell_type": "code",
   "execution_count": 137,
   "metadata": {},
   "outputs": [
    {
     "data": {
      "text/plain": [
       "['magma',\n",
       " 'inferno',\n",
       " 'plasma',\n",
       " 'viridis',\n",
       " 'cividis',\n",
       " 'twilight',\n",
       " 'twilight_shifted',\n",
       " 'turbo',\n",
       " 'Blues',\n",
       " 'BrBG',\n",
       " 'BuGn',\n",
       " 'BuPu',\n",
       " 'CMRmap',\n",
       " 'GnBu',\n",
       " 'Greens',\n",
       " 'Greys',\n",
       " 'OrRd',\n",
       " 'Oranges',\n",
       " 'PRGn',\n",
       " 'PiYG',\n",
       " 'PuBu',\n",
       " 'PuBuGn',\n",
       " 'PuOr',\n",
       " 'PuRd',\n",
       " 'Purples',\n",
       " 'RdBu',\n",
       " 'RdGy',\n",
       " 'RdPu',\n",
       " 'RdYlBu',\n",
       " 'RdYlGn',\n",
       " 'Reds',\n",
       " 'Spectral',\n",
       " 'Wistia',\n",
       " 'YlGn',\n",
       " 'YlGnBu',\n",
       " 'YlOrBr',\n",
       " 'YlOrRd',\n",
       " 'afmhot',\n",
       " 'autumn',\n",
       " 'binary',\n",
       " 'bone',\n",
       " 'brg',\n",
       " 'bwr',\n",
       " 'cool',\n",
       " 'coolwarm',\n",
       " 'copper',\n",
       " 'cubehelix',\n",
       " 'flag',\n",
       " 'gist_earth',\n",
       " 'gist_gray',\n",
       " 'gist_heat',\n",
       " 'gist_ncar',\n",
       " 'gist_rainbow',\n",
       " 'gist_stern',\n",
       " 'gist_yarg',\n",
       " 'gnuplot',\n",
       " 'gnuplot2',\n",
       " 'gray',\n",
       " 'hot',\n",
       " 'hsv',\n",
       " 'jet',\n",
       " 'nipy_spectral',\n",
       " 'ocean',\n",
       " 'pink',\n",
       " 'prism',\n",
       " 'rainbow',\n",
       " 'seismic',\n",
       " 'spring',\n",
       " 'summer',\n",
       " 'terrain',\n",
       " 'winter',\n",
       " 'Accent',\n",
       " 'Dark2',\n",
       " 'Paired',\n",
       " 'Pastel1',\n",
       " 'Pastel2',\n",
       " 'Set1',\n",
       " 'Set2',\n",
       " 'Set3',\n",
       " 'tab10',\n",
       " 'tab20',\n",
       " 'tab20b',\n",
       " 'tab20c',\n",
       " 'magma_r',\n",
       " 'inferno_r',\n",
       " 'plasma_r',\n",
       " 'viridis_r',\n",
       " 'cividis_r',\n",
       " 'twilight_r',\n",
       " 'twilight_shifted_r',\n",
       " 'turbo_r',\n",
       " 'Blues_r',\n",
       " 'BrBG_r',\n",
       " 'BuGn_r',\n",
       " 'BuPu_r',\n",
       " 'CMRmap_r',\n",
       " 'GnBu_r',\n",
       " 'Greens_r',\n",
       " 'Greys_r',\n",
       " 'OrRd_r',\n",
       " 'Oranges_r',\n",
       " 'PRGn_r',\n",
       " 'PiYG_r',\n",
       " 'PuBu_r',\n",
       " 'PuBuGn_r',\n",
       " 'PuOr_r',\n",
       " 'PuRd_r',\n",
       " 'Purples_r',\n",
       " 'RdBu_r',\n",
       " 'RdGy_r',\n",
       " 'RdPu_r',\n",
       " 'RdYlBu_r',\n",
       " 'RdYlGn_r',\n",
       " 'Reds_r',\n",
       " 'Spectral_r',\n",
       " 'Wistia_r',\n",
       " 'YlGn_r',\n",
       " 'YlGnBu_r',\n",
       " 'YlOrBr_r',\n",
       " 'YlOrRd_r',\n",
       " 'afmhot_r',\n",
       " 'autumn_r',\n",
       " 'binary_r',\n",
       " 'bone_r',\n",
       " 'brg_r',\n",
       " 'bwr_r',\n",
       " 'cool_r',\n",
       " 'coolwarm_r',\n",
       " 'copper_r',\n",
       " 'cubehelix_r',\n",
       " 'flag_r',\n",
       " 'gist_earth_r',\n",
       " 'gist_gray_r',\n",
       " 'gist_heat_r',\n",
       " 'gist_ncar_r',\n",
       " 'gist_rainbow_r',\n",
       " 'gist_stern_r',\n",
       " 'gist_yarg_r',\n",
       " 'gnuplot_r',\n",
       " 'gnuplot2_r',\n",
       " 'gray_r',\n",
       " 'hot_r',\n",
       " 'hsv_r',\n",
       " 'jet_r',\n",
       " 'nipy_spectral_r',\n",
       " 'ocean_r',\n",
       " 'pink_r',\n",
       " 'prism_r',\n",
       " 'rainbow_r',\n",
       " 'seismic_r',\n",
       " 'spring_r',\n",
       " 'summer_r',\n",
       " 'terrain_r',\n",
       " 'winter_r',\n",
       " 'Accent_r',\n",
       " 'Dark2_r',\n",
       " 'Paired_r',\n",
       " 'Pastel1_r',\n",
       " 'Pastel2_r',\n",
       " 'Set1_r',\n",
       " 'Set2_r',\n",
       " 'Set3_r',\n",
       " 'tab10_r',\n",
       " 'tab20_r',\n",
       " 'tab20b_r',\n",
       " 'tab20c_r']"
      ]
     },
     "execution_count": 137,
     "metadata": {},
     "output_type": "execute_result"
    }
   ],
   "source": [
    "plt.colormaps()"
   ]
  },
  {
   "cell_type": "code",
   "execution_count": 138,
   "metadata": {},
   "outputs": [
    {
     "data": {
      "text/plain": [
       "<AxesSubplot:title={'center':'Ratio of public administration workers by county (%) in Texas, 2019'}>"
      ]
     },
     "execution_count": 138,
     "metadata": {},
     "output_type": "execute_result"
    },
    {
     "data": {
      "image/png": "[encoded data removed]",
      "text/plain": [
       "<Figure size 1152x720 with 1 Axes>"
      ]
     },
     "metadata": {
      "needs_background": "light"
     },
     "output_type": "display_data"
    }
   ],
   "source": [
    "f, ax = plt.subplots(1, 1, figsize=(16,10))\n",
    "ax.set_title(\"Ratio of public administration workers by county (%) in Texas, 2019\")\n",
    "tx_acs_pa.plot('p_public_administration', ax=ax, cmap='YlOrRd', legend=True, scheme = 'fisherjenks', k = 5)\n"
   ]
  }
 ],
 "metadata": {
  "kernelspec": {
   "display_name": "Python 3 (ipykernel)",
   "language": "python",
   "name": "python3"
  },
  "language_info": {
   "codemirror_mode": {
    "name": "ipython",
    "version": 3
   },
   "file_extension": ".py",
   "mimetype": "text/x-python",
   "name": "python",
   "nbconvert_exporter": "python",
   "pygments_lexer": "ipython3",
   "version": "3.8.12"
  }
 },
 "nbformat": 4,
 "nbformat_minor": 4
}
