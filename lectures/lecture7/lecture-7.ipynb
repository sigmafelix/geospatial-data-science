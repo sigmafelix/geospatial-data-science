{
 "cells": [
  {
   "cell_type": "markdown",
   "id": "8eb35a9b",
   "metadata": {
    "slideshow": {
     "slide_type": "slide"
    }
   },
   "source": [
    "<CENTER>\n",
    "    <h1> Geospatial Data Science Applications: GEOG 4/590</h1>\n",
    "    <h3>Feb 14, 2022</h3>\n",
    "    <h2>Lecture 7: Data access</h2>\n",
    "    <img src=\"images/coding-computer-programming.jpeg\" width=\"300\"/>\n",
    "    <h3>Johnny Ryan: jryan4@uoregon.edu</h3>\n",
    "</CENTER>"
   ]
  },
  {
   "cell_type": "markdown",
   "id": "2dcf3075",
   "metadata": {
    "slideshow": {
     "slide_type": "slide"
    }
   },
   "source": [
    "## Content of this lecture\n",
    "\n",
    "* Web2.0\n",
    "<br>\n",
    "<br>\n",
    "* A story about AirBnB\n",
    "<br>\n",
    "<br>\n",
    "* Web scraping with Python\n",
    "<br>\n",
    "<br>\n",
    "* Background for this week's lab"
   ]
  },
  {
   "cell_type": "code",
   "execution_count": 5,
   "id": "0a295a96",
   "metadata": {
    "slideshow": {
     "slide_type": "slide"
    }
   },
   "outputs": [
    {
     "data": {
      "text/html": [
       "<iframe width=\"560\" height=\"315\" src=\"https://www.youtube.com/embed/BxV14h0kFs0\" title=\"YouTube video player\" frameborder=\"0\" allow=\"accelerometer; autoplay; clipboard-write; encrypted-media; gyroscope; picture-in-picture\" allowfullscreen></iframe>"
      ],
      "text/plain": [
       "<IPython.core.display.HTML object>"
      ]
     },
     "execution_count": 5,
     "metadata": {},
     "output_type": "execute_result"
    }
   ],
   "source": [
    "from IPython.display import HTML\n",
    "HTML('<iframe width=\"560\" height=\"315\" src=\"https://www.youtube.com/embed/BxV14h0kFs0\" title=\"YouTube video player\" frameborder=\"0\" allow=\"accelerometer; autoplay; clipboard-write; encrypted-media; gyroscope; picture-in-picture\" allowfullscreen></iframe>')"
   ]
  },
  {
   "cell_type": "markdown",
   "id": "8b448802",
   "metadata": {
    "slideshow": {
     "slide_type": "slide"
    }
   },
   "source": [
    "<img src=\"images/ztrax.png\" width=\"1000\"/>"
   ]
  },
  {
   "cell_type": "markdown",
   "id": "fcc43b60",
   "metadata": {
    "slideshow": {
     "slide_type": "subslide"
    }
   },
   "source": [
    "<img src=\"images/zillow.png\" width=\"900\"/>"
   ]
  },
  {
   "cell_type": "markdown",
   "id": "e901f5e7",
   "metadata": {
    "slideshow": {
     "slide_type": "subslide"
    }
   },
   "source": [
    "<img src=\"images/zillow2.png\" width=\"900\"/>"
   ]
  },
  {
   "cell_type": "markdown",
   "id": "168a96f9",
   "metadata": {
    "slideshow": {
     "slide_type": "subslide"
    }
   },
   "source": [
    "<img src=\"images/airbnb.png\" width=\"800\"/>"
   ]
  },
  {
   "cell_type": "markdown",
   "id": "28aa4bc1",
   "metadata": {
    "slideshow": {
     "slide_type": "slide"
    }
   },
   "source": [
    "### These companies hoard data to secure market dominance\n",
    "\n",
    "\n",
    "### Without access to their data it is difficult to tell whether they are in compliance\n",
    "\n",
    "\n",
    "### By gaurding data, they are preventing it being used for good (maybe bad) causes "
   ]
  },
  {
   "cell_type": "markdown",
   "id": "1e73bfce",
   "metadata": {},
   "source": []
  },
  {
   "cell_type": "markdown",
   "id": "4ee39ffd",
   "metadata": {},
   "source": []
  },
  {
   "cell_type": "markdown",
   "id": "febe8c0a",
   "metadata": {},
   "source": []
  },
  {
   "cell_type": "markdown",
   "id": "6df2f7a2",
   "metadata": {},
   "source": []
  }
 ],
 "metadata": {
  "celltoolbar": "Slideshow",
  "kernelspec": {
   "display_name": "Python 3 (ipykernel)",
   "language": "python",
   "name": "python3"
  },
  "language_info": {
   "codemirror_mode": {
    "name": "ipython",
    "version": 3
   },
   "file_extension": ".py",
   "mimetype": "text/x-python",
   "name": "python",
   "nbconvert_exporter": "python",
   "pygments_lexer": "ipython3",
   "version": "3.9.7"
  }
 },
 "nbformat": 4,
 "nbformat_minor": 5
}
